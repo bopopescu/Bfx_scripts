{
 "cells": [
  {
   "cell_type": "markdown",
   "metadata": {},
   "source": [
    "## Getting started with Docker for local development\n",
    "\n",
    "Docker Documentation: https://docs.docker.com\n",
    "\n",
    "First you need to install Docker for Windows CE (https://www.docker.com/docker-windows)\n",
    "\n",
    "You should also sign up for a Docker ID on the Docker Cloud. Docker Cloud functions similarly to GitHub. It is a place for you to be able to store images as well as download images others have produced. It is free and you can sign up here: https://cloud.docker.com\n",
    "\n",
    "To familiarize yourself with Docker concepts and terminology, it is highly recommeded that you go through the **Get Started** section of the Docs (https://docs.docker.com/get-started/) and follow along on your own system.\n"
   ]
  },
  {
   "cell_type": "markdown",
   "metadata": {},
   "source": [
    "---"
   ]
  },
  {
   "cell_type": "markdown",
   "metadata": {},
   "source": [
    "## Building a local dev environment (first attempt)\n",
    "\n",
    "We want to build a local dev environment that creates a Linux OS, mounts the local filesystem as a volume, installs Python, R and a webserver as a starting point. The goal is that the container will hold the OS and the stack and the application code we will write will be stored in the mounted data volume (local FS)\n",
    "\n",
    "* Create a new folder called `docker_dev` on your local system. This will be the project location for this image\n",
    "* Change directory to docker_dev\n",
    "* In docker_dev, create a new text file called `Dockerfile` with the following contents\n",
    "\n",
    "    ```\n",
    "    # Use most recent version of Alpine Linux (12/29/17) as\n",
    "    # base image\n",
    "    FROM gliderlabs/alpine:3.6\n",
    "    RUN apk add --no-cache\\\n",
    "            bash \\\n",
    "            sudo \\\n",
    "            nano \\\n",
    "            curl \\\n",
    "            gcc \\\n",
    "            g++ \\\n",
    "            unixodbc-dev \\\n",
    "            openssh \\\n",
    "            python3 \\      # just use python to get python2.7\n",
    "            python3-dev \\  # need to use python-dev if using 2.7\n",
    "            #only needed if using python2.7\tpy-pip \\      \n",
    "            #only needed if using python2.7\tbuild-base \\  \n",
    "            postgresql \\\n",
    "            nginx \\\n",
    "            R \\\n",
    "            R-dev \\\n",
    "            && ln -s /usr/include/locale.h /usr/include/xlocale.h \\  # required to solve a pandas install error\n",
    "            && pip3 install numpy \\ # switch back to pip if using 2.7\n",
    "                    pandas \\\n",
    "                    flask \\\n",
    "                    pyodbc \\\n",
    "                    jupyterhub   # requires python3\n",
    "\n",
    "    # Make port 80 available to the world outside this container\n",
    "    EXPOSE 80\n",
    "    ```   \n",
    "       \n",
    "* Build the container   \n",
    "    ```\n",
    "    docker build -t base_alpine_only .\n",
    "    ```   \n",
    "* Tag the image once it is built so that it can be pushed up to DockerHub\n",
    "    ```\n",
    "    docker tag base_alpine_only talonsensei/ghi_dev_base:v1\n",
    "    docker image ls\n",
    "    docker push talonsensei/ghi_dev_base:v1\n",
    "    ```\n",
    "* The image can be run by\n",
    "    ```\n",
    "    docker run talonsensei/ghi_dev_base:v1\n",
    "    ```\n",
    "    If it is not present locally, docker will pull it from the repository automatically\n",
    "    \n",
    "* Or you can run interactively \n",
    "    ```\n",
    "    docker run -it base_alpine_only # or use ghi_dev_base:v1\n",
    "    ```\n",
    "\n",
    "    "
   ]
  }
 ],
 "metadata": {
  "kernelspec": {
   "display_name": "Python 3",
   "language": "python",
   "name": "python3"
  },
  "language_info": {
   "codemirror_mode": {
    "name": "ipython",
    "version": 3
   },
   "file_extension": ".py",
   "mimetype": "text/x-python",
   "name": "python",
   "nbconvert_exporter": "python",
   "pygments_lexer": "ipython3",
   "version": "3.6.2"
  }
 },
 "nbformat": 4,
 "nbformat_minor": 2
}
